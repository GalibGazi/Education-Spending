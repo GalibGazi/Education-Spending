{
 "cells": [
  {
   "cell_type": "markdown",
   "id": "6ae7e6cd",
   "metadata": {},
   "source": [
    "# Feature Engineering for Education Spending Dataset"
   ]
  },
  {
   "cell_type": "code",
   "execution_count": null,
   "id": "59d94e20",
   "metadata": {},
   "outputs": [],
   "source": [
    "\n",
    "# Import libraries\n",
    "import pandas as pd\n",
    "\n",
    "# Load the dataset\n",
    "file_path = '/mnt/data/XAI_Ed_Spending_Data.csv'\n",
    "data = pd.read_csv(file_path)\n",
    "\n",
    "# Sort the data by STATE and YEAR for sequential operations\n",
    "data_sorted = data.sort_values(by=[\"STATE\", \"YEAR\"])\n"
   ]
  },
  {
   "cell_type": "markdown",
   "id": "b21edef8",
   "metadata": {},
   "source": [
    "## Creating Lagged Variables"
   ]
  },
  {
   "cell_type": "code",
   "execution_count": null,
   "id": "580e7321",
   "metadata": {},
   "outputs": [],
   "source": [
    "\n",
    "# Adding lagged features for CAPITAL_OUTLAY_EXPENDITURE\n",
    "for lag in [1, 2, 5]:\n",
    "    data_sorted[f\"CAPITAL_OUTLAY_EXPENDITURE_LAG_{lag}\"] = data_sorted.groupby(\"STATE\")[\n",
    "        \"CAPITAL_OUTLAY_EXPENDITURE\"\n",
    "    ].shift(lag)\n"
   ]
  },
  {
   "cell_type": "markdown",
   "id": "aad44441",
   "metadata": {},
   "source": [
    "## Adding Derived Features"
   ]
  },
  {
   "cell_type": "code",
   "execution_count": null,
   "id": "1884a1b1",
   "metadata": {},
   "outputs": [],
   "source": [
    "\n",
    "# Per Capita Expenditure\n",
    "data_sorted[\"PER_CAPITA_EXPENDITURE\"] = data_sorted[\"TOTAL_EXPENDITURE\"] / data_sorted[\"ENROLL\"]\n",
    "\n",
    "# Ratios of Expenditure Categories\n",
    "data_sorted[\"INSTRUCTION_EXPENDITURE_RATIO\"] = (\n",
    "    data_sorted[\"INSTRUCTION_EXPENDITURE\"] / data_sorted[\"TOTAL_EXPENDITURE\"]\n",
    ")\n",
    "data_sorted[\"SUPPORT_SERVICES_EXPENDITURE_RATIO\"] = (\n",
    "    data_sorted[\"SUPPORT_SERVICES_EXPENDITURE\"] / data_sorted[\"TOTAL_EXPENDITURE\"]\n",
    ")\n",
    "data_sorted[\"CAPITAL_OUTLAY_EXPENDITURE_RATIO\"] = (\n",
    "    data_sorted[\"CAPITAL_OUTLAY_EXPENDITURE\"] / data_sorted[\"TOTAL_EXPENDITURE\"]\n",
    ")\n"
   ]
  },
  {
   "cell_type": "markdown",
   "id": "f53eb550",
   "metadata": {},
   "source": [
    "## Finalizing the Dataset"
   ]
  },
  {
   "cell_type": "code",
   "execution_count": null,
   "id": "00819d1f",
   "metadata": {},
   "outputs": [],
   "source": [
    "\n",
    "# Selecting the required columns for modeling\n",
    "final_columns = [\n",
    "    \"STATE\", \"YEAR\", \"real GDP(in billion U.S. dollars)\",\n",
    "    \"ENROLL\", \"TOTAL_EXPENDITURE\", \"PER_CAPITA_EXPENDITURE\",\n",
    "    \"INSTRUCTION_EXPENDITURE_RATIO\", \"SUPPORT_SERVICES_EXPENDITURE_RATIO\",\n",
    "    \"CAPITAL_OUTLAY_EXPENDITURE_RATIO\",\n",
    "    \"CAPITAL_OUTLAY_EXPENDITURE_LAG_1\",\n",
    "    \"CAPITAL_OUTLAY_EXPENDITURE_LAG_2\",\n",
    "    \"CAPITAL_OUTLAY_EXPENDITURE_LAG_5\"\n",
    "]\n",
    "final_data = data_sorted[final_columns]\n",
    "# Saving the final dataset to CSV\n",
    "final_data.to_csv('/mnt/data/Final_Engineered_Data.csv', index=False)\n",
    "final_data.head()\n"
   ]
  }
 ],
 "metadata": {},
 "nbformat": 4,
 "nbformat_minor": 5
}
